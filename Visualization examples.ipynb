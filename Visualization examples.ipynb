{
 "cells": [
  {
   "cell_type": "code",
   "execution_count": 2,
   "id": "2f7b6a10",
   "metadata": {},
   "outputs": [
    {
     "data": {
      "text/html": [
       "<style>.container { width:90% !important; }</style>"
      ],
      "text/plain": [
       "<IPython.core.display.HTML object>"
      ]
     },
     "metadata": {},
     "output_type": "display_data"
    },
    {
     "name": "stdout",
     "output_type": "stream",
     "text": [
      "Working dir: D:\\Igno\\Programing\\Python\\common\n"
     ]
    },
    {
     "ename": "ModuleNotFoundError",
     "evalue": "No module named 'common.machine_learning_tools'",
     "output_type": "error",
     "traceback": [
      "\u001b[1;31m---------------------------------------------------------------------------\u001b[0m",
      "\u001b[1;31mModuleNotFoundError\u001b[0m                       Traceback (most recent call last)",
      "\u001b[1;32m<ipython-input-2-feea6509e465>\u001b[0m in \u001b[0;36m<module>\u001b[1;34m\u001b[0m\n\u001b[0;32m     43\u001b[0m \u001b[1;33m\u001b[0m\u001b[0m\n\u001b[0;32m     44\u001b[0m \u001b[1;33m\u001b[0m\u001b[0m\n\u001b[1;32m---> 45\u001b[1;33m \u001b[1;32mfrom\u001b[0m \u001b[0mcommon\u001b[0m\u001b[1;33m.\u001b[0m\u001b[0mmachine_learning_tools\u001b[0m\u001b[1;33m.\u001b[0m\u001b[0mqol_machine_learning_tools\u001b[0m \u001b[1;32mimport\u001b[0m \u001b[0mtrain_val_test_split\u001b[0m\u001b[1;33m\u001b[0m\u001b[1;33m\u001b[0m\u001b[0m\n\u001b[0m\u001b[0;32m     46\u001b[0m \u001b[1;33m\u001b[0m\u001b[0m\n\u001b[0;32m     47\u001b[0m \u001b[1;32mfrom\u001b[0m \u001b[0mcommon\u001b[0m\u001b[1;33m.\u001b[0m\u001b[0mmiscellaneous\u001b[0m \u001b[1;32mimport\u001b[0m \u001b[0mprint_indexed_list\u001b[0m\u001b[1;33m,\u001b[0m \u001b[0mprint_fraction\u001b[0m\u001b[1;33m,\u001b[0m \u001b[0mverbose_print\u001b[0m\u001b[1;33m\u001b[0m\u001b[1;33m\u001b[0m\u001b[0m\n",
      "\u001b[1;31mModuleNotFoundError\u001b[0m: No module named 'common.machine_learning_tools'"
     ]
    }
   ],
   "source": [
    "# To support both python 2 and python 3\n",
    "from __future__ import print_function, division, unicode_literals\n",
    "from ipywidgets import interact, interactive, fixed, interact_manual\n",
    "import ipywidgets as widgets\n",
    "\n",
    "# Usual imports\n",
    "import numpy as np\n",
    "import os\n",
    "import cv2\n",
    "import warnings\n",
    "from os.path import join as path_join\n",
    "from tqdm import tqdm\n",
    "import json\n",
    "tqdm.pandas()\n",
    "import datetime\n",
    "\n",
    "# To plot pretty figures\n",
    "%matplotlib inline\n",
    "import matplotlib\n",
    "import matplotlib.pyplot as plt\n",
    "import matplotlib.image as mpimg\n",
    "import seaborn as sns\n",
    "import math\n",
    "\n",
    "from IPython.core.display import display, HTML\n",
    "display(HTML(\"<style>.container { width:90% !important; }</style>\"))\n",
    "\n",
    "import pandas as pd\n",
    "pd.set_option('display.expand_frame_repr', False)\n",
    "pd.set_option(\"display.max_columns\", 100)\n",
    "\n",
    "# while not os.getcwd().endswith(\"ml\"):\n",
    "#     os.chdir(os.path.abspath(os.path.join(os.pardir)))\n",
    "print(\"Working dir:\", os.getcwd())\n",
    "\n",
    "from common.analysis.analysis_tools import calculate_CDF\n",
    "from common.data_manipulation.image_data_tools.bounding_box_tools import get_bbox_dimensions\n",
    "from common.data_manipulation.pandas_tools import save_dataframe, add_face_id, load_df, separate_df_based_on_column_range, add_image_id\n",
    "\n",
    "from common.image_tools.image_loading import load_image\n",
    "from common.image_tools.cropping import crop_box, crop_image_center_square\n",
    "from common.image_tools.resizer import resize_image, ResizingType\n",
    "\n",
    "from common.machine_learning_tools.qol_machine_learning_tools import train_val_test_split\n",
    "\n",
    "from common.miscellaneous import print_indexed_list, print_fraction, verbose_print\n",
    "from common.visualizations.image_visualizations import show_image, show_images, draw_pose, draw_bounding_box, draw_landmarks, draw_confidences\n",
    "from common.visualizations.figure_plotting import *"
   ]
  },
  {
   "cell_type": "code",
   "execution_count": null,
   "id": "d98e5fba",
   "metadata": {},
   "outputs": [],
   "source": [
    "from sklearn.datasets import load_iris\n",
    "from sklearn.linear_model import LogisticRegression, LinearRegression\n",
    "\n",
    "from pydataset import data"
   ]
  },
  {
   "cell_type": "markdown",
   "id": "b1a57dda",
   "metadata": {},
   "source": [
    "# Prepare data"
   ]
  },
  {
   "cell_type": "code",
   "execution_count": null,
   "id": "ba28b943",
   "metadata": {},
   "outputs": [],
   "source": [
    "d = data()\n",
    "d"
   ]
  },
  {
   "cell_type": "code",
   "execution_count": null,
   "id": "d2eb9225",
   "metadata": {},
   "outputs": [],
   "source": [
    "sizes = []\n",
    "\n",
    "for index, pandas_row in d.iterrows():\n",
    "    dataset = data(pandas_row['dataset_id'])\n",
    "    sizes.append(len(dataset))\n",
    "    \n",
    "d['size'] = sizes\n",
    "d"
   ]
  },
  {
   "cell_type": "code",
   "execution_count": null,
   "id": "7812262d",
   "metadata": {
    "scrolled": true
   },
   "outputs": [],
   "source": [
    "d.sort_values('size').tail(20)"
   ]
  },
  {
   "cell_type": "code",
   "execution_count": null,
   "id": "f04c1882",
   "metadata": {},
   "outputs": [],
   "source": [
    "df = data('diamonds')\n",
    "df"
   ]
  },
  {
   "cell_type": "code",
   "execution_count": null,
   "id": "402aef40",
   "metadata": {},
   "outputs": [],
   "source": [
    "iris_data = load_iris()\n",
    "iris_data"
   ]
  },
  {
   "cell_type": "code",
   "execution_count": null,
   "id": "e6b7e262",
   "metadata": {},
   "outputs": [],
   "source": [
    "# gt_column = 'target'\n",
    "# feature_columns = iris_data['feature_names']\n",
    "\n",
    "gt_column = 'price'\n",
    "feature_columns = ['carat', 'cut', 'color', 'clarity', 'depth', 'table', 'x', 'y', 'z']"
   ]
  },
  {
   "cell_type": "code",
   "execution_count": null,
   "id": "7a03d7b1",
   "metadata": {},
   "outputs": [],
   "source": [
    "df = pd.DataFrame(iris_data['data'], columns=feature_columns)\n",
    "df[gt_column] = iris_data[gt_column]\n",
    "df"
   ]
  },
  {
   "cell_type": "code",
   "execution_count": null,
   "id": "fdf71e59",
   "metadata": {},
   "outputs": [],
   "source": [
    "df.describe()"
   ]
  },
  {
   "cell_type": "code",
   "execution_count": null,
   "id": "0cf295c0",
   "metadata": {
    "scrolled": true
   },
   "outputs": [],
   "source": [
    "train_coef = \n",
    "\n",
    "train_val_test_split()\n",
    "\n",
    "train_df = df.sample(100)\n",
    "test_df = df.loc[~df.index.isin(train_df.index)].sample(frac=1)\n",
    "\n",
    "display(train_df)\n",
    "display(test_df)"
   ]
  },
  {
   "cell_type": "code",
   "execution_count": null,
   "id": "aff8cc1e",
   "metadata": {
    "scrolled": true
   },
   "outputs": [],
   "source": [
    "log_reg = LogisticRegression()\n",
    "log_reg.fit(train_df[iris_data['feature_names']], train_df[gt_column])\n",
    "\n",
    "preds = log_reg.predict(test_df[iris_data['feature_names']])\n",
    "preds_probas = log_reg.predict_proba(test_df[iris_data['feature_names']])\n",
    "correct_probas = np.choose(test_df[gt_column].values, preds_probas.T)\n",
    "correct = preds == test_df[gt_column]\n",
    "acc = sum(correct) / len(test_df)\n",
    "acc"
   ]
  },
  {
   "cell_type": "markdown",
   "id": "58f627b3",
   "metadata": {},
   "source": [
    "# Plots"
   ]
  },
  {
   "cell_type": "code",
   "execution_count": null,
   "id": "c46c06a6",
   "metadata": {},
   "outputs": [],
   "source": [
    "plot_path = \"plot samples\"\n",
    "os.makedirs(plot_path, exist_ok=True)"
   ]
  },
  {
   "cell_type": "markdown",
   "id": "36ac34b2",
   "metadata": {},
   "source": [
    "## histogram"
   ]
  },
  {
   "cell_type": "code",
   "execution_count": null,
   "id": "51191ee4",
   "metadata": {
    "scrolled": true
   },
   "outputs": [],
   "source": [
    "plot_save_name = \"hist.jpg\"\n",
    "plot_save_fullname = path_join(plot_path, plot_save_name)\n",
    "\n",
    "plot_histogram(df['sepal length (cm)'], bins=len(pd.unique(df['sepal length (cm)'])), add_quatinles=True, save_fullname=plot_save_fullname)\n",
    "plot_histogram(df['sepal length (cm)'], bins=10, add_quatinles=[0.1, 0.2, 0.3, 0.5, 0.6, 0.8, 0.99], add_cumulative=True, fig_size=(8, 5))"
   ]
  },
  {
   "cell_type": "markdown",
   "id": "b87e98fd",
   "metadata": {},
   "source": [
    "## Multiple histograms"
   ]
  },
  {
   "cell_type": "code",
   "execution_count": null,
   "id": "b93bf774",
   "metadata": {
    "scrolled": true
   },
   "outputs": [],
   "source": [
    "plot_save_name = \"hist_mult.jpg\"\n",
    "plot_save_fullname = path_join(plot_path, plot_save_name)\n",
    "\n",
    "plot_multiple_histograms([df['sepal length (cm)'], df['sepal width (cm)'], df['petal width (cm)'], df['petal width (cm)']], ['s length', 's witdh', 'p length', 'p witdh'], title=\"lengths and widths\")\n",
    "plot_multiple_histograms([df['sepal length (cm)'], df['sepal width (cm)']], ['length', 'witdh'], add_quatinles=True, save_fullname=plot_save_fullname, only_save=True)"
   ]
  },
  {
   "cell_type": "markdown",
   "id": "d5f38e6c",
   "metadata": {},
   "source": [
    "## Scatter"
   ]
  },
  {
   "cell_type": "code",
   "execution_count": null,
   "id": "29b50cf2",
   "metadata": {
    "scrolled": true
   },
   "outputs": [],
   "source": [
    "plot_scatter(df['sepal length (cm)'], df['sepal width (cm)'], 4+5*df['petal length (cm)'], axis_labels=['length', 'witdh'], fig_size=(8, 8))"
   ]
  },
  {
   "cell_type": "markdown",
   "id": "d6307300",
   "metadata": {},
   "source": [
    "## XY curves"
   ]
  },
  {
   "cell_type": "code",
   "execution_count": null,
   "id": "a01ad1ff",
   "metadata": {
    "scrolled": true
   },
   "outputs": [],
   "source": [
    "x = sorted(np.random.rand(10))\n",
    "y_1 = np.random.rand(10)\n",
    "y_2 = np.random.rand(10)\n",
    "\n",
    "plot_xy_curves(x, [y_1, y_2], ['1', '2'])\n",
    "plot_xy_curves(x, [y_1, y_2], ['1', '2'], marker=False)"
   ]
  },
  {
   "cell_type": "markdown",
   "id": "3684dfff",
   "metadata": {},
   "source": [
    "## Xs and Ys"
   ]
  },
  {
   "cell_type": "code",
   "execution_count": null,
   "id": "8cdceb4a",
   "metadata": {
    "scrolled": true
   },
   "outputs": [],
   "source": [
    "x_1 = sorted(np.random.rand(10))\n",
    "x_2 = sorted(np.random.rand(145))\n",
    "y_1 = np.random.rand(10)\n",
    "y_2 = np.random.rand(145)\n",
    "\n",
    "plot_xs_and_ys([x_1, x_2], [y_1, y_2], ['1', '2'])"
   ]
  },
  {
   "cell_type": "markdown",
   "id": "84dae6e6",
   "metadata": {},
   "source": [
    "## CDF"
   ]
  },
  {
   "cell_type": "code",
   "execution_count": null,
   "id": "f43093b4",
   "metadata": {
    "scrolled": true
   },
   "outputs": [],
   "source": [
    "threshs = np.arange(0, 1.0000000001, 0.005)\n",
    "cdf = calculate_CDF(correct_probas, threshs)\n",
    "\n",
    "plot_CDF(cdf, threshs, marker=None)\n",
    "plot_CDF(cdf, threshs, log_scale='x', axis_limits=[0.3, 1.01])"
   ]
  },
  {
   "cell_type": "markdown",
   "id": "23507f35",
   "metadata": {},
   "source": [
    "## multiple cdfs"
   ]
  },
  {
   "cell_type": "code",
   "execution_count": null,
   "id": "7f30ca5a",
   "metadata": {
    "scrolled": true
   },
   "outputs": [],
   "source": [
    "noisy_correct_probas = correct_probas + (np.random.rand(len(correct_probas)) - 0.5) / 10\n",
    "noisy_cdf = calculate_CDF(noisy_correct_probas, threshs)\n",
    "\n",
    "plot_CDFs([cdf, noisy_cdf], threshs, ['cdf', 'noisy'])"
   ]
  },
  {
   "cell_type": "markdown",
   "id": "6f96a2b0",
   "metadata": {},
   "source": [
    "## bidir CDFs"
   ]
  },
  {
   "cell_type": "code",
   "execution_count": null,
   "id": "ff1a2e9f",
   "metadata": {},
   "outputs": [],
   "source": [
    "\n",
    "\n",
    "\n",
    "plot_multiple_bidir_CED_curves()"
   ]
  }
 ],
 "metadata": {
  "kernelspec": {
   "display_name": "Python 3",
   "language": "python",
   "name": "python3"
  },
  "language_info": {
   "codemirror_mode": {
    "name": "ipython",
    "version": 3
   },
   "file_extension": ".py",
   "mimetype": "text/x-python",
   "name": "python",
   "nbconvert_exporter": "python",
   "pygments_lexer": "ipython3",
   "version": "3.9.2"
  }
 },
 "nbformat": 4,
 "nbformat_minor": 5
}
